{
  "nbformat": 4,
  "nbformat_minor": 0,
  "metadata": {
    "colab": {
      "provenance": [],
      "authorship_tag": "ABX9TyMnALYRKGcbYU9g3YTrKzNb",
      "include_colab_link": true
    },
    "kernelspec": {
      "name": "python3",
      "display_name": "Python 3"
    },
    "language_info": {
      "name": "python"
    }
  },
  "cells": [
    {
      "cell_type": "markdown",
      "metadata": {
        "id": "view-in-github",
        "colab_type": "text"
      },
      "source": [
        "<a href=\"https://colab.research.google.com/github/FelipeB12/FelipeB12.github.io/blob/main/simple_neutral_network.ipynb\" target=\"_parent\"><img src=\"https://colab.research.google.com/assets/colab-badge.svg\" alt=\"Open In Colab\"/></a>"
      ]
    },
    {
      "cell_type": "markdown",
      "source": [
        "This information is used to understand  forward pass and back propagation works, making emphasis on the flow of the data that affects weights\n",
        "\n",
        "Sourse: https://towardsdatascience.com/neural-networks-forward-pass-and-backpropagation-be3b75a1cfcc\n",
        "\n",
        "And some adaptation with help of ChatGPT with studying proposes"
      ],
      "metadata": {
        "id": "VajEdIUaWw5S"
      }
    },
    {
      "cell_type": "code",
      "execution_count": 60,
      "metadata": {
        "id": "7O0-H4DSFiMe"
      },
      "outputs": [],
      "source": [
        "import torch"
      ]
    },
    {
      "cell_type": "code",
      "source": [
        "import torch.nn as nn"
      ],
      "metadata": {
        "id": "heDHxb5YGnw9"
      },
      "execution_count": 61,
      "outputs": []
    },
    {
      "cell_type": "code",
      "source": [
        "import torch.optim as optim"
      ],
      "metadata": {
        "id": "hNyZ65EJN5WR"
      },
      "execution_count": 62,
      "outputs": []
    },
    {
      "cell_type": "code",
      "source": [
        "# Define the device\n",
        "device = torch.device('cuda' if torch.cuda.is_available() else 'cpu')"
      ],
      "metadata": {
        "id": "vXztsG2NIw8d"
      },
      "execution_count": 63,
      "outputs": []
    },
    {
      "cell_type": "code",
      "source": [
        "model_nn = nn.Sequential(\n",
        "    nn.Linear(1,2),  # input layer\n",
        "    nn.ReLU(),       # activation function\n",
        "    nn.Linear(2,2),  # hidden layer\n",
        "    nn.ReLU(),       # activation function\n",
        "    nn.Linear(2,1)   # output layer\n",
        ").to(device)        # move the model to the specified device"
      ],
      "metadata": {
        "id": "GLvfr5C3GqMr"
      },
      "execution_count": 64,
      "outputs": []
    },
    {
      "cell_type": "code",
      "source": [
        "# Define example the input tensor\n",
        "t_u1 = torch.tensor([[0.5], [1.0], [1.5], [2.0]], dtype=torch.float32)\n",
        "t_output = model_nn(t_u1)"
      ],
      "metadata": {
        "id": "gpeAE6wfHIsI"
      },
      "execution_count": 65,
      "outputs": []
    },
    {
      "cell_type": "code",
      "source": [
        "# Define the example true output tensor\n",
        "t_c1 = torch.tensor([[32.0], [33.8], [35.6], [37.4]], dtype=torch.float32)"
      ],
      "metadata": {
        "id": "4WbwBTF7Kwgv"
      },
      "execution_count": 66,
      "outputs": []
    },
    {
      "cell_type": "code",
      "source": [
        "# Define the optimizer\n",
        "learning_rate = 0.01\n",
        "optL = optim.SGD(model_nn.parameters(), lr=learning_rate)"
      ],
      "metadata": {
        "id": "1joJ2MlmNZWf"
      },
      "execution_count": 67,
      "outputs": []
    },
    {
      "cell_type": "code",
      "source": [
        "# Forward pass\n",
        "t_output = model_nn(t_u1.to(device))"
      ],
      "metadata": {
        "id": "kQHO8RRoUbkA"
      },
      "execution_count": 68,
      "outputs": []
    },
    {
      "cell_type": "markdown",
      "source": [
        "get result of weights and bias before backpropagation"
      ],
      "metadata": {
        "id": "_eoFDLxUUwC7"
      }
    },
    {
      "cell_type": "code",
      "source": [
        "# Print initial weights and biases\n",
        "print(\"Initial Weights and Biases:\")\n",
        "print(\"Layer 0: Linear Layer\")\n",
        "print(\"Weights:\")\n",
        "print(model_nn[0].weight.detach().to('cpu').numpy())\n",
        "print(\"Bias:\")\n",
        "print(model_nn[0].bias.detach().to('cpu').numpy())\n",
        "print(\"\\n\")\n",
        "\n",
        "print(\"Layer 2: Linear Layer\")\n",
        "print(\"Weights:\")\n",
        "print(model_nn[2].weight.detach().to('cpu').numpy())\n",
        "print(\"Bias:\")\n",
        "print(model_nn[2].bias.detach().to('cpu').numpy())\n",
        "print(\"\\n\")\n",
        "\n",
        "print(\"Layer 4: Linear Layer\")\n",
        "print(\"Weights:\")\n",
        "print(model_nn[4].weight.detach().to('cpu').numpy())\n",
        "print(\"Bias:\")\n",
        "print(model_nn[4].bias.detach().to('cpu').numpy())\n",
        "print(\"\\n\")"
      ],
      "metadata": {
        "colab": {
          "base_uri": "https://localhost:8080/"
        },
        "id": "VOtl84CzIDD5",
        "outputId": "202e86b1-5e95-4e50-93e7-94955fde804c"
      },
      "execution_count": 69,
      "outputs": [
        {
          "output_type": "stream",
          "name": "stdout",
          "text": [
            "Initial Weights and Biases:\n",
            "Layer 0: Linear Layer\n",
            "Weights:\n",
            "[[-0.79030895]\n",
            " [ 0.12839305]]\n",
            "Bias:\n",
            "[ 0.15660584 -0.58847845]\n",
            "\n",
            "\n",
            "Layer 2: Linear Layer\n",
            "Weights:\n",
            "[[ 0.5486931  -0.5408611 ]\n",
            " [ 0.39456758 -0.47795108]]\n",
            "Bias:\n",
            "[-0.2795078  -0.51942086]\n",
            "\n",
            "\n",
            "Layer 4: Linear Layer\n",
            "Weights:\n",
            "[[ 0.27874002 -0.6895547 ]]\n",
            "Bias:\n",
            "[-0.5922755]\n",
            "\n",
            "\n"
          ]
        }
      ]
    },
    {
      "cell_type": "code",
      "source": [
        "loss_fn = torch.nn.MSELoss()\n",
        "loss_train = loss_fn(t_output, t_c1)"
      ],
      "metadata": {
        "id": "PNH55BZDH1aj"
      },
      "execution_count": 70,
      "outputs": []
    },
    {
      "cell_type": "code",
      "source": [
        "# Zero gradients\n",
        "optL.zero_grad()"
      ],
      "metadata": {
        "id": "4929oMxiMlNY"
      },
      "execution_count": 71,
      "outputs": []
    },
    {
      "cell_type": "code",
      "source": [
        "# Backward pass\n",
        "loss_train.backward(retain_graph=True)"
      ],
      "metadata": {
        "id": "tukxGm9oMq59"
      },
      "execution_count": 72,
      "outputs": []
    },
    {
      "cell_type": "code",
      "source": [
        "# Optimize\n",
        "optL.step()"
      ],
      "metadata": {
        "id": "j1fksE52OMXL"
      },
      "execution_count": 73,
      "outputs": []
    },
    {
      "cell_type": "markdown",
      "source": [
        "get result of weights and bias after backpropagation"
      ],
      "metadata": {
        "id": "AFXgwQyePR_u"
      }
    },
    {
      "cell_type": "code",
      "source": [
        "import numpy as np"
      ],
      "metadata": {
        "id": "2gW_pI0fPw2f"
      },
      "execution_count": 74,
      "outputs": []
    },
    {
      "cell_type": "code",
      "source": [
        "wt_L0 = model_nn[0].weight.detach().to('cpu').numpy()\n",
        "bias_L0 = model_nn[0].bias.detach().to('cpu').numpy()\n",
        "\n",
        "wt_L2 = model_nn[2].weight.detach().to('cpu').numpy()\n",
        "bias_L2 = model_nn[2].bias.detach().to('cpu').numpy()\n",
        "\n",
        "wt_L4 = model_nn[4].weight.detach().to('cpu').numpy()\n",
        "bias_L4 = model_nn[4].bias.detach().to('cpu').numpy()"
      ],
      "metadata": {
        "id": "DWi7FG85OMy6"
      },
      "execution_count": 75,
      "outputs": []
    },
    {
      "cell_type": "code",
      "source": [
        "# Print updated weights and biases\n",
        "print(\"Updated Weights and Biases after Backpropagation:\")\n",
        "print(\"Layer 0: Linear Layer\")\n",
        "print(\"Weights:\")\n",
        "print(model_nn[0].weight.detach().to('cpu').numpy())\n",
        "print(\"Bias:\")\n",
        "print(model_nn[0].bias.detach().to('cpu').numpy())\n",
        "print(\"\\n\")\n",
        "\n",
        "print(\"Layer 2: Linear Layer\")\n",
        "print(\"Weights:\")\n",
        "print(model_nn[2].weight.detach().to('cpu').numpy())\n",
        "print(\"Bias:\")\n",
        "print(model_nn[2].bias.detach().to('cpu').numpy())\n",
        "print(\"\\n\")\n",
        "\n",
        "print(\"Layer 4: Linear Layer\")\n",
        "print(\"Weights:\")\n",
        "print(model_nn[4].weight.detach().to('cpu').numpy())\n",
        "print(\"Bias:\")\n",
        "print(model_nn[4].bias.detach().to('cpu').numpy())"
      ],
      "metadata": {
        "colab": {
          "base_uri": "https://localhost:8080/"
        },
        "id": "qARFSDDRQPf3",
        "outputId": "56283e6e-1b98-40d7-acfb-98ae26edba1d"
      },
      "execution_count": 76,
      "outputs": [
        {
          "output_type": "stream",
          "name": "stdout",
          "text": [
            "Updated Weights and Biases after Backpropagation:\n",
            "Layer 0: Linear Layer\n",
            "Weights:\n",
            "[[-0.79030895]\n",
            " [ 0.12839305]]\n",
            "Bias:\n",
            "[ 0.15660584 -0.58847845]\n",
            "\n",
            "\n",
            "Layer 2: Linear Layer\n",
            "Weights:\n",
            "[[ 0.5486931  -0.5408611 ]\n",
            " [ 0.39456758 -0.47795108]]\n",
            "Bias:\n",
            "[-0.2795078  -0.51942086]\n",
            "\n",
            "\n",
            "Layer 4: Linear Layer\n",
            "Weights:\n",
            "[[ 0.27874002 -0.6895547 ]]\n",
            "Bias:\n",
            "[0.11356997]\n"
          ]
        }
      ]
    }
  ]
}